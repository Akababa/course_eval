{
 "cells": [
  {
   "cell_type": "code",
   "execution_count": 1,
   "metadata": {},
   "outputs": [],
   "source": [
    "import numpy as np\n",
    "import matplotlib.pyplot as plt\n",
    "%matplotlib inline\n",
    "import matplotlib as mpl\n",
    "mpl.rcParams['figure.dpi']= 300\n",
    "import seaborn as sns\n",
    "import pandas as pd\n",
    "from matplotlib.colors import ListedColormap\n",
    "from sklearn.model_selection import train_test_split\n",
    "from sklearn.preprocessing import StandardScaler\n",
    "from sklearn.datasets import make_moons, make_circles, make_classification\n",
    "from sklearn.neural_network import MLPClassifier\n",
    "from sklearn.neighbors import KNeighborsClassifier\n",
    "from sklearn.svm import SVC\n",
    "from sklearn.gaussian_process.kernels import RBF\n",
    "from sklearn.tree import DecisionTreeClassifier\n",
    "from sklearn.ensemble import RandomForestClassifier, AdaBoostClassifier\n",
    "from sklearn.naive_bayes import GaussianNB\n",
    "from sklearn.discriminant_analysis import LinearDiscriminantAnalysis\n",
    "from sklearn.discriminant_analysis import QuadraticDiscriminantAnalysis\n",
    "from sklearn.linear_model import LogisticRegression\n",
    "from sklearn.model_selection import GridSearchCV\n",
    "from sklearn.model_selection import RandomizedSearchCV\n",
    "import xgboost as xgb\n"
   ]
  },
  {
   "cell_type": "code",
   "execution_count": 2,
   "metadata": {},
   "outputs": [],
   "source": [
    "#setting up salary data\n",
    "sal=pd.concat([pd.read_csv(f\"salaries/p_{yr}.csv\") for yr in range(2018,2010,-1)])\n",
    "sal=sal.groupby(\"name\").first()"
   ]
  },
  {
   "cell_type": "code",
   "execution_count": 3,
   "metadata": {},
   "outputs": [],
   "source": [
    "#Setting up dataframes\n",
    "eval_data = pd.read_csv(\"averages_enrol.csv\")\n",
    "eval_data[[\"term\"]]=pd.Categorical(eval_data.term)\n",
    "eval_data[[\"section\"]]=pd.Categorical(eval_data.section)\n",
    "#eval_data[\"response_rate\"] = eval_data.num_responses / eval_data.enrolled\n",
    "#df.replace([np.inf, -np.inf], np.nan)\n",
    "\n",
    "df=eval_data[eval_data.num_resp>10] # only surveys with >10 responses\n",
    "df=df.groupby(\"instructor\").filter(lambda x:len(x)>2) # only teachers with >=3 classes\n",
    "df=pd.merge(df,sal,how='left', left_on=[\"instructor\"],right_on=['name']).drop(['benefits',\"section\"],axis=1)\n",
    "df.title.replace(np.nan,\"Lecturer\",inplace=True)"
   ]
  },
  {
   "cell_type": "code",
   "execution_count": 4,
   "metadata": {},
   "outputs": [],
   "source": [
    "df_tenure=df.groupby(\"instructor\").mean()\n",
    "df_tenure[\"num_taught\"]=df.groupby(\"instructor\").size()\n",
    "df_tenure[\"title\"]=df.groupby(\"instructor\").first()[[\"title\"]]\n",
    "has_tenure=df_tenure.title.isin([\"Professor\",\"Associate Professor\"])\n",
    "titles = df_tenure.title"
   ]
  },
  {
   "cell_type": "code",
   "execution_count": 5,
   "metadata": {},
   "outputs": [
    {
     "data": {
      "text/plain": [
       "instructor\n",
       "Adam Kolkiewicz        2\n",
       "Adam Roegiest          0\n",
       "Adriel Dean-Hall       0\n",
       "Ahmad Alrefai          0\n",
       "Ahmed Ayaz Ataullah    0\n",
       "                      ..\n",
       "Yongqiang Zhao         0\n",
       "Yu-Ru Liu              3\n",
       "Yuying Li              3\n",
       "Zoran Miskovic         3\n",
       "shahla Aliakbari       0\n",
       "Name: title, Length: 352, dtype: int64"
      ]
     },
     "execution_count": 5,
     "metadata": {},
     "output_type": "execute_result"
    }
   ],
   "source": [
    "titles.replace(\"Lecturer\",0,inplace=True)\n",
    "titles.replace(\"Assistant Professor\",1,inplace=True)\n",
    "titles.replace(\"Associate Professor\",2,inplace=True)\n",
    "titles.replace(\"Professor\",3,inplace=True)\n",
    "titles"
   ]
  },
  {
   "cell_type": "markdown",
   "metadata": {},
   "source": [
    "# Classifiers\n",
    "The data was fit onto many different classifiers to take a look at how the classifiers performed and also look at the how the underlying data affects different classifiers. In this project, the classification is a component of the analysis, not the final product of the analysis. \n",
    "\n",
    "Classifiers were not picked due to any pattern, but follow the ones introduced in Stat 441. We start with K-Nearest Neighbours, a support vector machine classifier, several tree and boosting methods (Decision tree, Random Forest, Adaboost, XGBoost), followed by some more basic classifiers (Naive Bayes, LDA, QDA, and Logistic Regression)\n",
    "\n",
    "For a select set of the classifiers (SVC,Random Forest, Decision Tree, XGBoost) 5-fold cross validation grid/random search was used to tune the hyperparameters. The others were left as is using certain default methods as they have relatively few parameters.\n",
    "\n",
    "Grid search was used to tune the SVC due to the different number of parameters depending on kernel, and random search for the rest. "
   ]
  },
  {
   "cell_type": "code",
   "execution_count": 6,
   "metadata": {},
   "outputs": [],
   "source": [
    "#grid search for parameter selection of certain estimators\n",
    "## SVC grid search\n",
    "param_grid_SVC = [\n",
    "  {'C': [1, 10, 100, 1000], 'kernel': ['linear']},\n",
    "  {'C': [1, 10, 100, 1000], 'gamma': [0.001, 0.0001], 'kernel': ['rbf']}\n",
    " ]\n",
    "\n",
    "SVC_clf = GridSearchCV(SVC(), param_grid_SVC, cv=5,iid=False)\n",
    "\n",
    "#RF\n",
    "param_grid_RF =  {'bootstrap': [True, False],\n",
    " 'max_depth':[10,20,30,40,50],\n",
    " 'max_features':['auto',None],\n",
    " 'min_samples_leaf': [1,2,3],\n",
    " 'min_samples_split': [2,5,10],\n",
    " 'n_estimators': [200,400,800,1000]}\n",
    "\n",
    "RF_clf = RandomizedSearchCV(RandomForestClassifier(),param_grid_RF,cv=5,iid=False)\n",
    "\n",
    "param_grid_DT =  {'criterion': ['gini','entropy'],\n",
    "  'splitter': ['best','random'],\n",
    " 'max_depth': [10,20,30,40,50],\n",
    " 'max_features': ['auto'],\n",
    " 'min_samples_leaf': [2],\n",
    " 'min_samples_split': [3]}\n",
    "\n",
    "DT_clf = RandomizedSearchCV(DecisionTreeClassifier(),param_grid_DT,cv=5,iid=False)\n",
    "\n",
    "param_grid_xgb = {\n",
    "    'colsample_bytree': [0.3,0.4,0.5,0.6,0.7,0.8],\n",
    "    'gamma': [0,1,5],\n",
    "    'learning_rate': [0.1, 0.05, 0.01],\n",
    "    'maxdepth': [3],\n",
    "    'n_estimators': [500]\n",
    "}\n",
    "\n",
    "XGB_clf = RandomizedSearchCV(xgb.XGBClassifier(),param_grid_xgb,cv=5,iid=False)\n"
   ]
  },
  {
   "cell_type": "code",
   "execution_count": 37,
   "metadata": {},
   "outputs": [
    {
     "name": "stdout",
     "output_type": "stream",
     "text": [
      "['org', 'expl_lvl', 'q_treat', 'visual', 'oral', 'help', 'interest', 'overall', 'attend', 'assign', 'notes', 'textbook', 'new_mat', 'assign_amt', 'outside', 'num_resp', 'enrolled', 'resp_rate', 'num_taught']\n"
     ]
    }
   ],
   "source": [
    "#preparing feats\n",
    "feats=list(df_tenure.select_dtypes('number').columns)\n",
    "feats.remove(\"salary\")\n",
    "feats.remove(\"title\")\n",
    "\n",
    "#scale data\n",
    "#standardize the data\n",
    "X= df_tenure\n",
    "X=StandardScaler().fit_transform(X[feats])\n",
    "\n",
    "print(feats)\n",
    "\n",
    "#set up of names and classifiers \n",
    "names = [\"Nearest Neighbors\", \"SVM tuned\",\n",
    "         \"Decision Tree\", \"Random Forest\",\"AdaBoost\",\"XGB\",\n",
    "         \"Naive Bayes\",\"LDA\",\"QDA\",\"LogReg\"]\n",
    "\n",
    "classifiers = [\n",
    "    \n",
    "    KNeighborsClassifier(10),\n",
    "    SVC_clf,\n",
    "    DT_clf,\n",
    "    RF_clf,\n",
    "    AdaBoostClassifier(),\n",
    "    XGB_clf,\n",
    "    GaussianNB(),\n",
    "    LinearDiscriminantAnalysis(),\n",
    "    QuadraticDiscriminantAnalysis(),\n",
    "    LogisticRegression(solver='liblinear')]"
   ]
  },
  {
   "cell_type": "code",
   "execution_count": 39,
   "metadata": {},
   "outputs": [
    {
     "name": "stdout",
     "output_type": "stream",
     "text": [
      "                 Nearest Neighbors  SVM tuned  Decision Tree  Random Forest  \\\n",
      "train_error               0.247967   0.186992       0.142276       0.052846   \n",
      "base_line_train           0.406504   0.406504       0.406504       0.406504   \n",
      "test_error                0.283019   0.264151       0.358491       0.292453   \n",
      "base_line_test            0.462264   0.462264       0.462264       0.462264   \n",
      "score                     0.716981   0.735849       0.641509       0.707547   \n",
      "\n",
      "                 AdaBoost       XGB  Naive Bayes       LDA       QDA    LogReg  \n",
      "train_error      0.044715  0.158537     0.304878  0.223577  0.134146  0.215447  \n",
      "base_line_train  0.406504  0.406504     0.406504  0.406504  0.406504  0.406504  \n",
      "test_error       0.339623  0.330189     0.330189  0.273585  0.264151  0.301887  \n",
      "base_line_test   0.462264  0.462264     0.462264  0.462264  0.462264  0.462264  \n",
      "score            0.660377  0.669811     0.669811  0.726415  0.735849  0.698113  \n"
     ]
    }
   ],
   "source": [
    "X_train, X_test, y_train, y_test = train_test_split(X,has_tenure,test_size=0.3,random_state=42)\n",
    "\n",
    "output = pd.DataFrame(index = ['train_error', 'base_line_train', 'test_error','base_line_test', 'score']) \n",
    "\n",
    "for name,classifier in zip(names,classifiers):\n",
    "    classifier.fit(X_train, y_train)\n",
    "    score = classifier.score(X_test,y_test)\n",
    "    train_err = np.mean(classifier.predict(X_train)!=y_train)\n",
    "    test_err = np.mean(classifier.predict(X_test)!=y_test)\n",
    "    baseline_train = np.mean(y_train)\n",
    "    baseline_test = np.mean(y_test)\n",
    "    output_l = [train_err, baseline_train, test_err,baseline_test, score]\n",
    "    output[f\"{name}\"] = output_l\n",
    "print(output)\n",
    "\n",
    "\n",
    "### table of errors of different classifiers "
   ]
  },
  {
   "cell_type": "code",
   "execution_count": 61,
   "metadata": {},
   "outputs": [
    {
     "name": "stdout",
     "output_type": "stream",
     "text": [
      "            0          1\n",
      "0    expl_lvl    1.06493\n",
      "0     overall   0.795608\n",
      "0   resp_rate  -0.593544\n",
      "0  assign_amt  -0.567668\n",
      "0     q_treat  -0.545886\n",
      "0     new_mat  -0.508964\n",
      "0    num_resp   0.464125\n",
      "0         org  -0.396151\n",
      "0  num_taught   0.384893\n",
      "0     outside  -0.339386\n",
      "0    interest   0.318795\n",
      "0      visual   0.299261\n",
      "0    textbook   0.297674\n",
      "0        help  -0.275634\n",
      "0      attend  -0.269953\n",
      "0    enrolled  -0.253497\n",
      "0        oral  -0.156156\n",
      "0       notes  -0.104746\n",
      "0      assign -0.0989166\n"
     ]
    }
   ],
   "source": [
    "#getting coefficient values from logistic regression, descending by absolute value\n",
    "coefs = pd.DataFrame(columns = [0,1])\n",
    "for feat,coef in sorted(zip(feats,classifier.coef_[0]),key=lambda x:abs(x[1]),reverse=True):\n",
    "        temp = pd.DataFrame([feat,coef])\n",
    "        coefs = coefs.append(temp.transpose())\n",
    "print(coefs)"
   ]
  },
  {
   "cell_type": "code",
   "execution_count": 11,
   "metadata": {},
   "outputs": [
    {
     "data": {
      "text/plain": [
       "<matplotlib.legend.Legend at 0x21b966ca048>"
      ]
     },
     "execution_count": 11,
     "metadata": {},
     "output_type": "execute_result"
    },
    {
     "data": {
      "image/png": "[encoded data removed]",
      "text/plain": [
       "<Figure size 432x288 with 1 Axes>"
      ]
     },
     "metadata": {
      "needs_background": "light"
     },
     "output_type": "display_data"
    }
   ],
   "source": [
    "#plotting the above table\n",
    "ind = np.arange(10)\n",
    "p1 = plt.bar(ind,output.transpose().train_error,width=0.35)\n",
    "p2 = plt.bar(ind+0.35,output.transpose().test_error,width=0.35)\n",
    "l1 = plt.plot([0,10], [0.406504, 0.406504], 'k-', lw=2)\n",
    "l2 = plt.plot([0,10], [0.462264, 0.462264], 'g-', lw=2)\n",
    "plt.xticks(ind,output.columns,rotation=-45,ha=\"left\")\n",
    "plt.ylabel('Error rate')\n",
    "plt.legend((p1[0], p2[0],l1[0],l2[0]), ('Train', 'Test','Train Baseline','Test Baseline'),loc = \"upper left\",bbox_to_anchor=[1,1])"
   ]
  },
  {
   "cell_type": "markdown",
   "metadata": {},
   "source": [
    "Here, we can see that most of the classifiers performed similarly with test error rates between about 0.25 to 0.3. Every classifier was below their baseline. Decision tree classifier performed by far the worst out of all the classifiers and on certain runs is actually very close to the test_baseline value as seen in the plot below. The decision tree's error rates are highly variable. This is unstability is due to small differences in the randomness of the decision tree generating very different trees. The decision trees are also overfit. The most overfit classifier were the random forest classifiers, giving 0 training error. Since we are optimizing max_depth as a parameter of random forest, it will try to pick the largest one as it is more likely to provide a single value within each leaf giving the lowest error. If we are tuning parameters based on error, it might be better to not tune the max_depth value to high values to prevent overfitting."
   ]
  },
  {
   "cell_type": "code",
   "execution_count": 62,
   "metadata": {},
   "outputs": [
    {
     "name": "stdout",
     "output_type": "stream",
     "text": [
      "                      dt1       dt2       dt3       dt4       dt5       dt6  \\\n",
      "train_error      0.295455  0.073864  0.119318  0.102273  0.312500  0.107955   \n",
      "base_line_train  1.193182  1.193182  1.193182  1.193182  1.193182  1.193182   \n",
      "test_error       0.448864  0.482955  0.511364  0.602273  0.500000  0.488636   \n",
      "base_line_test   1.181818  1.181818  1.181818  1.181818  1.181818  1.181818   \n",
      "score            0.551136  0.517045  0.488636  0.397727  0.500000  0.511364   \n",
      "\n",
      "                      dt7       dt8       dt9      dt10  \n",
      "train_error      0.113636  0.232955  0.244318  0.142045  \n",
      "base_line_train  1.193182  1.193182  1.193182  1.193182  \n",
      "test_error       0.500000  0.511364  0.511364  0.613636  \n",
      "base_line_test   1.181818  1.181818  1.181818  1.181818  \n",
      "score            0.500000  0.488636  0.488636  0.386364  \n"
     ]
    }
   ],
   "source": [
    "#decision tree multiple runs\n",
    "#look at variability of decision tree and weak learner\n",
    "classifier = DT_clf\n",
    "output_dt = pd.DataFrame(index = ['train_error', 'base_line_train', 'test_error','base_line_test', 'score']) \n",
    "for i in range(1,11):\n",
    "    classifier.fit(X_train, y_train)\n",
    "    score = classifier.score(X_test,y_test)\n",
    "    train_err = np.mean(classifier.predict(X_train)!=y_train)\n",
    "    test_err = np.mean(classifier.predict(X_test)!=y_test)\n",
    "    baseline_train = np.mean(y_train)\n",
    "    baseline_test = np.mean(y_test)\n",
    "    output_l = [train_err, baseline_train, test_err,baseline_test, score]\n",
    "    output_dt[f\"dt{i}\"] = output_l\n",
    "print(output_dt)"
   ]
  },
  {
   "cell_type": "code",
   "execution_count": 13,
   "metadata": {},
   "outputs": [
    {
     "data": {
      "text/plain": [
       "<matplotlib.legend.Legend at 0x21b966c3408>"
      ]
     },
     "execution_count": 13,
     "metadata": {},
     "output_type": "execute_result"
    },
    {
     "data": {
      "image/png": "[encoded data removed]",
      "text/plain": [
       "<Figure size 432x288 with 1 Axes>"
      ]
     },
     "metadata": {
      "needs_background": "light"
     },
     "output_type": "display_data"
    }
   ],
   "source": [
    "#plotting above table\n",
    "ind = np.arange(10)\n",
    "p1 = plt.bar(ind,output_dt.transpose().train_error,width=0.35)\n",
    "p2 = plt.bar(ind+0.35,output_dt.transpose().test_error,width=0.35)\n",
    "l1 = plt.plot([0,10], [0.406504, 0.406504], 'k-', lw=2)\n",
    "l2 = plt.plot([0,10], [0.462264, 0.462264], 'g-', lw=2)\n",
    "plt.xticks(ind,output_dt.columns,rotation=-45,ha=\"left\")\n",
    "plt.ylabel('Error rate')\n",
    "plt.legend((p1[0], p2[0],l1[0],l2[0]), ('Train', 'Test','Train Baseline','Test Baseline'),loc = \"upper left\",bbox_to_anchor=[1,1])"
   ]
  },
  {
   "cell_type": "code",
   "execution_count": 14,
   "metadata": {},
   "outputs": [
    {
     "name": "stdout",
     "output_type": "stream",
     "text": [
      "                 Nearest Neighbors  SVM tuned  Decision Tree  Random Forest  \\\n",
      "train_error               0.252033   0.227642       0.170732       0.077236   \n",
      "test_error                0.311321   0.330189       0.339623       0.283019   \n",
      "base_line_train           0.406504   0.406504       0.406504       0.406504   \n",
      "base_line_test            0.462264   0.462264       0.462264       0.462264   \n",
      "score                     0.688679   0.669811       0.660377       0.716981   \n",
      "\n",
      "                 AdaBoost       XGB  Naive Bayes       LDA       QDA    LogReg  \n",
      "train_error      0.126016  0.182927     0.288618  0.272358  0.276423  0.272358  \n",
      "test_error       0.292453  0.311321     0.358491  0.301887  0.349057  0.301887  \n",
      "base_line_train  0.406504  0.406504     0.406504  0.406504  0.406504  0.406504  \n",
      "base_line_test   0.462264  0.462264     0.462264  0.462264  0.462264  0.462264  \n",
      "score            0.707547  0.688679     0.641509  0.698113  0.650943  0.698113  \n"
     ]
    }
   ],
   "source": [
    "#do the same classification as above except on PCA transformed data, keeping 0.8 of the variance\n",
    "from sklearn.decomposition import PCA\n",
    "X= df_tenure\n",
    "X=StandardScaler().fit_transform(X[feats])\n",
    "X = PCA(.80).fit_transform(X)\n",
    "\n",
    "X_train, X_test, y_train, y_test = train_test_split(X,has_tenure,test_size=0.3,random_state=42)\n",
    "\n",
    "output_PCA = pd.DataFrame(index = ['train_error', 'test_error', 'base_line_train','base_line_test', 'score']) \n",
    "\n",
    "for name,classifier in zip(names,classifiers):\n",
    "    classifier.fit(X_train, y_train)\n",
    "    score = classifier.score(X_test,y_test)\n",
    "    train_err = np.mean(classifier.predict(X_train)!=y_train)\n",
    "    test_err = np.mean(classifier.predict(X_test)!=y_test)\n",
    "    baseline_train = np.mean(y_train)\n",
    "    baseline_test = np.mean(y_test)\n",
    "    output_l = [train_err, test_err, baseline_train,baseline_test, score]\n",
    "    output_PCA[f\"{name}\"] = output_l\n",
    "print(output_PCA)"
   ]
  },
  {
   "cell_type": "code",
   "execution_count": 15,
   "metadata": {},
   "outputs": [
    {
     "data": {
      "text/plain": [
       "<matplotlib.legend.Legend at 0x21b97e9c288>"
      ]
     },
     "execution_count": 15,
     "metadata": {},
     "output_type": "execute_result"
    },
    {
     "data": {
      "image/png": "[encoded data removed]",
      "text/plain": [
       "<Figure size 432x288 with 1 Axes>"
      ]
     },
     "metadata": {
      "needs_background": "light"
     },
     "output_type": "display_data"
    }
   ],
   "source": [
    "#plot the above table\n",
    "ind = np.arange(10)\n",
    "p1 = plt.bar(ind,output_PCA.transpose().train_error,width=0.35)\n",
    "p2 = plt.bar(ind+0.35,output_PCA.transpose().test_error,width=0.35)\n",
    "l1 = plt.plot([0,10], [0.406504, 0.406504], 'k-', lw=2)\n",
    "l2 = plt.plot([0,10], [0.462264, 0.462264], 'g-', lw=2)\n",
    "plt.xticks(ind,output_PCA.columns,rotation=-45,ha=\"left\")\n",
    "plt.ylabel('Error rate')\n",
    "plt.legend((p1[0], p2[0],l1[0],l2[0]), ('Train', 'Test','Train Baseline','Test Baseline'),loc = \"upper left\",bbox_to_anchor=[1,1])"
   ]
  },
  {
   "cell_type": "markdown",
   "metadata": {},
   "source": [
    "## Comparing classifiers with their PCA transformed counterparts"
   ]
  },
  {
   "cell_type": "code",
   "execution_count": 16,
   "metadata": {},
   "outputs": [
    {
     "data": {
      "text/plain": [
       "<matplotlib.legend.Legend at 0x21b99c68fc8>"
      ]
     },
     "execution_count": 16,
     "metadata": {},
     "output_type": "execute_result"
    },
    {
     "data": {
      "image/png": "[encoded data removed]",
      "text/plain": [
       "<Figure size 432x288 with 1 Axes>"
      ]
     },
     "metadata": {
      "needs_background": "light"
     },
     "output_type": "display_data"
    }
   ],
   "source": [
    "#plot both the PCA and non-PCA errors side by side to compare effect of PCA \n",
    "ind = np.arange(10)\n",
    "wid = 0.2\n",
    "p1 = plt.bar(ind,output.transpose().train_error,width=wid)\n",
    "p1_PCA = plt.bar(ind+wid,output_PCA.transpose().train_error,width=wid)\n",
    "p2 = plt.bar(ind+2*wid,output.transpose().test_error,width=wid)\n",
    "p2_PCA = plt.bar(ind+3*wid,output_PCA.transpose().test_error,width=wid)\n",
    "l1 = plt.plot([0,10], [0.406504, 0.406504], 'k-', lw=2)\n",
    "l2 = plt.plot([0,10], [0.462264, 0.462264], 'g-', lw=2)\n",
    "plt.xticks(ind+1.5*wid,output_PCA.columns,rotation=-45,ha=\"left\")\n",
    "plt.ylabel('Error rate')\n",
    "plt.legend((p1[0], p1_PCA[0],p2[0], p2_PCA[0],l1[0],l2[0]),\\\n",
    "           ('Train', 'Train w/ PCA','Test','Test w/ PCA','Train Baseline','Test Baseline'),loc = \"upper left\",bbox_to_anchor=[1,1])"
   ]
  },
  {
   "cell_type": "markdown",
   "metadata": {},
   "source": [
    "Most of the classifiers did not see a decrease in the test error, and some had an increase in test error. Interestingly, the two boosting algorithms managed to achieve lower test error when working with transformed PCA data vs without. "
   ]
  },
  {
   "cell_type": "markdown",
   "metadata": {},
   "source": [
    "With a plot of the two PCA components, we don't see clear separation in the data at all. Both tenure and un-tenured employees are included. This suggests that there does not exist much of a difference in the reviews of the two types of university employees. "
   ]
  },
  {
   "cell_type": "code",
   "execution_count": 18,
   "metadata": {},
   "outputs": [
    {
     "name": "stdout",
     "output_type": "stream",
     "text": [
      "['org', 'expl_lvl', 'q_treat', 'visual', 'oral', 'help', 'interest', 'overall', 'attend', 'assign', 'notes', 'textbook', 'new_mat', 'assign_amt', 'outside', 'num_resp', 'enrolled', 'resp_rate', 'num_taught']\n"
     ]
    }
   ],
   "source": [
    "# Here we are going to classify by class instead of tenure vs no tenure\n",
    "\n",
    "#preparing feats\n",
    "feats=list(df_tenure.select_dtypes('number').columns)\n",
    "feats.remove(\"salary\")\n",
    "feats.remove(\"title\")\n",
    "#scale data\n",
    "#standardize the data\n",
    "X= df_tenure\n",
    "X=StandardScaler().fit_transform(X[feats])\n",
    "\n",
    "print(feats)\n",
    "\n",
    "#set up of names and classifiers \n",
    "names = [\"Nearest Neighbors\", \"SVM tuned\",\n",
    "         \"Decision Tree\", \"Random Forest\",\"AdaBoost\",\"XGB\",\n",
    "         \"Naive Bayes\",\"LDA\",\"QDA\",\"LogReg\"]\n",
    "\n",
    "classifiers = [\n",
    "    \n",
    "    KNeighborsClassifier(10),\n",
    "    SVC_clf,\n",
    "    DT_clf,\n",
    "    RF_clf,\n",
    "    AdaBoostClassifier(),\n",
    "    XGB_clf,\n",
    "    GaussianNB(),\n",
    "    LinearDiscriminantAnalysis(),\n",
    "    QuadraticDiscriminantAnalysis(),\n",
    "    LogisticRegression(solver='liblinear')]"
   ]
  },
  {
   "cell_type": "code",
   "execution_count": 19,
   "metadata": {
    "scrolled": true
   },
   "outputs": [
    {
     "name": "stdout",
     "output_type": "stream",
     "text": [
      "             Nearest Neighbors  SVM tuned  Decision Tree  Random Forest  \\\n",
      "train_error           0.323843   0.341637       0.323843       0.010676   \n",
      "test_error            0.422535   0.338028       0.450704       0.408451   \n",
      "score                 0.577465   0.661972       0.549296       0.591549   \n",
      "\n",
      "             AdaBoost       XGB  Naive Bayes       LDA       QDA    LogReg  \n",
      "train_error  0.352313  0.124555     0.430605  0.352313  0.131673  0.345196  \n",
      "test_error   0.478873  0.338028     0.507042  0.394366  0.450704  0.366197  \n",
      "score        0.521127  0.661972     0.492958  0.605634  0.549296  0.633803  \n"
     ]
    },
    {
     "name": "stderr",
     "output_type": "stream",
     "text": [
      "C:\\Users\\jiach\\Anaconda3\\lib\\site-packages\\sklearn\\linear_model\\logistic.py:469: FutureWarning: Default multi_class will be changed to 'auto' in 0.22. Specify the multi_class option to silence this warning.\n",
      "  \"this warning.\", FutureWarning)\n"
     ]
    }
   ],
   "source": [
    "#Stratified sampled data for each classifier\n",
    "X_train, X_test, y_train, y_test = train_test_split(X,titles,test_size=0.2,random_state=42,stratify=titles)\n",
    "\n",
    "output = pd.DataFrame(index = ['train_error','test_error','score']) \n",
    "\n",
    "for name,classifier in zip(names,classifiers):\n",
    "    classifier.fit(X_train, y_train)\n",
    "    score = classifier.score(X_test,y_test)\n",
    "    train_err = np.mean(classifier.predict(X_train)!=y_train)\n",
    "    test_err = np.mean(classifier.predict(X_test)!=y_test)\n",
    "    baseline_train = np.mean(y_train)\n",
    "    baseline_test = np.mean(y_test)\n",
    "    output_l = [train_err,test_err, score]\n",
    "    output[f\"{name}\"] = output_l\n",
    "\n",
    "#print(output_l)\n",
    "print(output)"
   ]
  },
  {
   "cell_type": "code",
   "execution_count": 58,
   "metadata": {},
   "outputs": [],
   "source": [
    "#logistic regression on 500 stratified samples\n",
    "#logistic for speed and generally good prediction rates\n",
    "output = pd.DataFrame(columns = [0,1,2,3,4]) \n",
    "\n",
    "classifier= LogisticRegression(solver=\"newton-cg\",multi_class=\"multinomial\")\n",
    "for i in range(1,500):\n",
    "    X_train, X_test, y_train, y_test = train_test_split(X,titles,test_size=0.5,stratify=titles)\n",
    "    classifier.fit(X_train, y_train)\n",
    "    score = classifier.score(X_test,y_test)\n",
    "    train_err = np.mean(classifier.predict(X_train)!=y_train)\n",
    "    test_err = np.mean(classifier.predict(X_test)!=y_test)\n",
    "    train_df = pd.DataFrame(y_train)\n",
    "    test_df = pd.DataFrame(y_test)\n",
    "    most_pop_train = train_df['title'].value_counts().max()\n",
    "    baseline_train = 1-(most_pop_train/352)\n",
    "    most_pop_test = test_df['title'].value_counts().max()\n",
    "    baseline_test = 1- (most_pop_test/352)\n",
    "    output_l = pd.DataFrame([train_err, baseline_train, test_err,baseline_test, score]).transpose()\n",
    "    output = pd.concat([output,output_l])\n"
   ]
  },
  {
   "cell_type": "code",
   "execution_count": 59,
   "metadata": {},
   "outputs": [
    {
     "data": {
      "image/png": "[encoded data removed]",
      "text/plain": [
       "<Figure size 432x288 with 1 Axes>"
      ]
     },
     "metadata": {
      "needs_background": "light"
     },
     "output_type": "display_data"
    },
    {
     "data": {
      "image/png": "[encoded data removed]",
      "text/plain": [
       "<Figure size 432x288 with 1 Axes>"
      ]
     },
     "metadata": {
      "needs_background": "light"
     },
     "output_type": "display_data"
    }
   ],
   "source": [
    "# histograms of the errors and the baseline of tenure vs no tenure. \n",
    "plt.hist(output[0])\n",
    "plt.xlabel(\"Train Error\")\n",
    "plt.ylabel(\"Density\")\n",
    "l1 = plt.plot([0.47,0.47], [0, 140], 'k-', lw=2)\n",
    "plt.figure(0)\n",
    "plt.hist(output[2],stacked=True)\n",
    "plt.xlabel(\"Test Error\")\n",
    "plt.ylabel(\"Density\")\n",
    "l1 = plt.plot([0.59,0.59], [0, 140], 'k-', lw=2) "
   ]
  },
  {
   "cell_type": "code",
   "execution_count": 22,
   "metadata": {},
   "outputs": [
    {
     "name": "stdout",
     "output_type": "stream",
     "text": [
      "0.4733096085409253\n",
      "0.5915492957746479\n"
     ]
    },
    {
     "data": {
      "text/plain": [
       "0    29\n",
       "3    26\n",
       "2    11\n",
       "1     5\n",
       "Name: title, dtype: int64"
      ]
     },
     "execution_count": 22,
     "metadata": {},
     "output_type": "execute_result"
    }
   ],
   "source": [
    "#calculating the baseline values for the above plots\n",
    "X_train, X_test, y_train, y_test = train_test_split(X,titles,test_size=0.2,random_state=42)\n",
    "train_df = pd.DataFrame(y_train)\n",
    "test_df = pd.DataFrame(y_test)\n",
    "train_df['title'].value_counts().max()\n",
    "most_pop_train = train_df['title'].value_counts().max()\n",
    "baseline_train = 1-(most_pop_train/len(train_df))\n",
    "most_pop_test = test_df['title'].value_counts().max()\n",
    "baseline_test = 1- (most_pop_test/len(test_df))\n",
    "\n",
    "print(baseline_train)\n",
    "print(baseline_test)\n",
    "test_df['title'].value_counts()"
   ]
  }
 ],
 "metadata": {
  "kernelspec": {
   "display_name": "Python 3",
   "language": "python",
   "name": "python3"
  },
  "language_info": {
   "codemirror_mode": {
    "name": "ipython",
    "version": 3
   },
   "file_extension": ".py",
   "mimetype": "text/x-python",
   "name": "python",
   "nbconvert_exporter": "python",
   "pygments_lexer": "ipython3",
   "version": "3.7.4"
  }
 },
 "nbformat": 4,
 "nbformat_minor": 4
}
