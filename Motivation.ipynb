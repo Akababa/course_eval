{
 "cells": [
  {
   "cell_type": "markdown",
   "metadata": {},
   "source": [
    "Course evaluations are done at the end of every term and are one of the main ways a student can give feedback to the school and their professor. But how valuable are they as feedback?  In this report we are going to investigate the trends and relationships within the course evaluations of the math faculty at the University of Waterloo from (start year) to (end year). Then many classifiers were used to perform classifcation into two classes: tenured and untenured employees to explore how the data interacts with different classifiers and predict whether an employee would be tenured or untenured based on their course evaluation information. Then we discuss possible weak points of the course evaluations and how they could be improved. "
   ]
  }
 ],
 "metadata": {
  "kernelspec": {
   "display_name": "Python 3",
   "language": "python",
   "name": "python3"
  },
  "language_info": {
   "codemirror_mode": {
    "name": "ipython",
    "version": 3
   },
   "file_extension": ".py",
   "mimetype": "text/x-python",
   "name": "python",
   "nbconvert_exporter": "python",
   "pygments_lexer": "ipython3",
   "version": "3.7.4"
  }
 },
 "nbformat": 4,
 "nbformat_minor": 2
}
